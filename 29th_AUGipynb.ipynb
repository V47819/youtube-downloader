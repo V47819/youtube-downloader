{
  "nbformat": 4,
  "nbformat_minor": 0,
  "metadata": {
    "colab": {
      "provenance": []
    },
    "kernelspec": {
      "name": "python3",
      "display_name": "Python 3"
    },
    "language_info": {
      "name": "python"
    }
  },
  "cells": [
    {
      "cell_type": "code",
      "execution_count": 11,
      "metadata": {
        "colab": {
          "base_uri": "https://localhost:8080/"
        },
        "id": "3wJTyq7tPuhF",
        "outputId": "115e9a1f-7e9e-4c0a-9076-7ef01324e2fb"
      },
      "outputs": [
        {
          "output_type": "stream",
          "name": "stdout",
          "text": [
            "Collecting pytube3\n",
            "  Downloading pytube3-9.6.4-py3-none-any.whl.metadata (16 kB)\n",
            "Requirement already satisfied: typing-extensions in /usr/local/lib/python3.10/dist-packages (from pytube3) (4.12.2)\n",
            "Downloading pytube3-9.6.4-py3-none-any.whl (38 kB)\n",
            "Installing collected packages: pytube3\n",
            "Successfully installed pytube3-9.6.4\n"
          ]
        }
      ],
      "source": [
        "pip install pytube3"
      ]
    },
    {
      "cell_type": "code",
      "source": [
        "pip install --upgrade pytube"
      ],
      "metadata": {
        "colab": {
          "base_uri": "https://localhost:8080/"
        },
        "id": "huZlf53ZQgxl",
        "outputId": "2a263414-cc9b-48f1-c2a5-a63122070685"
      },
      "execution_count": 12,
      "outputs": [
        {
          "output_type": "stream",
          "name": "stdout",
          "text": [
            "Collecting pytube\n",
            "  Downloading pytube-15.0.0-py3-none-any.whl.metadata (5.0 kB)\n",
            "Downloading pytube-15.0.0-py3-none-any.whl (57 kB)\n",
            "\u001b[?25l   \u001b[90m━━━━━━━━━━━━━━━━━━━━━━━━━━━━━━━━━━━━━━━━\u001b[0m \u001b[32m0.0/57.6 kB\u001b[0m \u001b[31m?\u001b[0m eta \u001b[36m-:--:--\u001b[0m\r\u001b[2K   \u001b[90m━━━━━━━━━━━━━━━━━━━━━━━━━━━━━━━━━━━━━━━━\u001b[0m \u001b[32m57.6/57.6 kB\u001b[0m \u001b[31m2.3 MB/s\u001b[0m eta \u001b[36m0:00:00\u001b[0m\n",
            "\u001b[?25hInstalling collected packages: pytube\n",
            "Successfully installed pytube-15.0.0\n"
          ]
        }
      ]
    },
    {
      "cell_type": "code",
      "source": [
        "from pytube import YouTube"
      ],
      "metadata": {
        "id": "py1nZkN7QsNX"
      },
      "execution_count": 13,
      "outputs": []
    },
    {
      "cell_type": "code",
      "source": [
        "pip install yt-dlp"
      ],
      "metadata": {
        "colab": {
          "base_uri": "https://localhost:8080/"
        },
        "id": "sajTO0V2RQib",
        "outputId": "40c374f9-3068-4459-f96c-863351c8b925"
      },
      "execution_count": 14,
      "outputs": [
        {
          "output_type": "stream",
          "name": "stdout",
          "text": [
            "Requirement already satisfied: yt-dlp in /usr/local/lib/python3.10/dist-packages (2024.8.6)\n",
            "Requirement already satisfied: brotli in /usr/local/lib/python3.10/dist-packages (from yt-dlp) (1.1.0)\n",
            "Requirement already satisfied: certifi in /usr/local/lib/python3.10/dist-packages (from yt-dlp) (2024.7.4)\n",
            "Requirement already satisfied: mutagen in /usr/local/lib/python3.10/dist-packages (from yt-dlp) (1.47.0)\n",
            "Requirement already satisfied: pycryptodomex in /usr/local/lib/python3.10/dist-packages (from yt-dlp) (3.20.0)\n",
            "Requirement already satisfied: requests<3,>=2.32.2 in /usr/local/lib/python3.10/dist-packages (from yt-dlp) (2.32.3)\n",
            "Requirement already satisfied: urllib3<3,>=1.26.17 in /usr/local/lib/python3.10/dist-packages (from yt-dlp) (2.0.7)\n",
            "Requirement already satisfied: websockets>=12.0 in /usr/local/lib/python3.10/dist-packages (from yt-dlp) (13.0.1)\n",
            "Requirement already satisfied: charset-normalizer<4,>=2 in /usr/local/lib/python3.10/dist-packages (from requests<3,>=2.32.2->yt-dlp) (3.3.2)\n",
            "Requirement already satisfied: idna<4,>=2.5 in /usr/local/lib/python3.10/dist-packages (from requests<3,>=2.32.2->yt-dlp) (3.8)\n"
          ]
        }
      ]
    },
    {
      "cell_type": "code",
      "source": [
        "link=input(\"Enter youtube video\")\n",
        "yt = YouTube(link)"
      ],
      "metadata": {
        "colab": {
          "base_uri": "https://localhost:8080/"
        },
        "id": "FjrNy0Z0RrRf",
        "outputId": "86a71815-1f07-438e-8cab-7aeadda94fd7"
      },
      "execution_count": 15,
      "outputs": [
        {
          "name": "stdout",
          "output_type": "stream",
          "text": [
            "Enter youtube videohttps://youtu.be/-s2LsXuUsHg?si=gsUClNFpEpLFfbYF\n"
          ]
        }
      ]
    },
    {
      "cell_type": "code",
      "source": [
        "\n",
        "\n",
        "print(\"Title :\",yt.title)\n",
        "print(\"Views :\",yt.views)\n",
        "print(\"Duration :\",yt.length)\n",
        "print(\"Discription :\",yt.description)\n",
        "print(\"Rating :\",yt.rating)\n",
        "\n"
      ],
      "metadata": {
        "colab": {
          "base_uri": "https://localhost:8080/"
        },
        "id": "W-x0GFirSzzQ",
        "outputId": "50e93f99-2805-4802-801e-8e1b93c37158"
      },
      "execution_count": 16,
      "outputs": [
        {
          "output_type": "stream",
          "name": "stdout",
          "text": [
            "Title : Nandanandanaa\n",
            "Views : 27166540\n",
            "Duration : 297\n",
            "Discription : None\n",
            "Rating : None\n"
          ]
        }
      ]
    },
    {
      "cell_type": "code",
      "source": [
        "from yt_dlp import YoutubeDL\n",
        "download_option = input(\"Do you want to download this video? (yes/no):\").lower()\n",
        "if download_option == \"yes\":\n",
        "       url = 'https://youtu.be/-s2LsXuUsHg?si=gsUClNFpEpLFfbYF'\n",
        "       ydl_opts = {'format':'best'}\n",
        "       with YoutubeDL(ydl_opts) as ydl:\n",
        "          print(\"Downloading...\")\n",
        "          ydl.download([url])\n",
        "          print(\"Download completed.\")\n",
        "else:\n",
        "     print(\"Download aborted.\")\n"
      ],
      "metadata": {
        "id": "F0tuBMF_VRmx",
        "colab": {
          "base_uri": "https://localhost:8080/"
        },
        "outputId": "ab72c25b-26c8-426d-e9b2-33d6be8304b8"
      },
      "execution_count": 17,
      "outputs": [
        {
          "output_type": "stream",
          "name": "stdout",
          "text": [
            "Do you want to download this video? (yes/no):yes\n",
            "Downloading...\n",
            "[youtube] Extracting URL: https://youtu.be/-s2LsXuUsHg?si=gsUClNFpEpLFfbYF\n",
            "[youtube] -s2LsXuUsHg: Downloading webpage\n",
            "[youtube] -s2LsXuUsHg: Downloading ios player API JSON\n",
            "[youtube] -s2LsXuUsHg: Downloading web creator player API JSON\n",
            "[youtube] -s2LsXuUsHg: Downloading player 57c75fa4\n",
            "[youtube] -s2LsXuUsHg: Downloading m3u8 information\n",
            "[info] -s2LsXuUsHg: Downloading 1 format(s): 18\n",
            "[download] Destination: Lyrical Video： Nandanandanaa ｜ The Family Star ｜ Vijay Deverakonda,Mrunal T ｜ Gopi Sundar ｜Parasuram [-s2LsXuUsHg].mp4\n",
            "[download] 100% of   20.37MiB in 00:00:00 at 26.81MiB/s  \n",
            "Download completed.\n"
          ]
        }
      ]
    },
    {
      "cell_type": "code",
      "source": [],
      "metadata": {
        "id": "90pkNnKeuMJ-"
      },
      "execution_count": null,
      "outputs": []
    }
  ]
}